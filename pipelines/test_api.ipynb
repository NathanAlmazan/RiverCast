{
 "cells": [
  {
   "cell_type": "code",
   "execution_count": null,
   "id": "initial_id",
   "metadata": {
    "collapsed": true
   },
   "outputs": [],
   "source": "import requests"
  },
  {
   "metadata": {
    "ExecuteTime": {
     "end_time": "2024-08-15T02:09:27.540276Z",
     "start_time": "2024-08-15T02:09:27.531213Z"
    }
   },
   "cell_type": "code",
   "source": [
    "import datetime\n",
    "\n",
    "# Unix timestamp\n",
    "timestamp = 1723687312\n",
    "\n",
    "# Convert to datetime object\n",
    "dt_object = datetime.datetime.fromtimestamp(timestamp, datetime.UTC)\n",
    "dt_object += datetime.timedelta(hours=8)\n",
    "\n",
    "# Convert to ISO 8601 format\n",
    "dt_object.isoformat()"
   ],
   "id": "6d835eb11e3791c0",
   "outputs": [
    {
     "data": {
      "text/plain": [
       "'2024-08-15T10:01:52+00:00'"
      ]
     },
     "execution_count": 8,
     "metadata": {},
     "output_type": "execute_result"
    }
   ],
   "execution_count": 8
  },
  {
   "metadata": {
    "ExecuteTime": {
     "end_time": "2024-08-15T02:10:14.944307Z",
     "start_time": "2024-08-15T02:10:14.935250Z"
    }
   },
   "cell_type": "code",
   "source": "datetime.datetime.fromtimestamp(timestamp).strftime(\"%Y-%m-%d %H:%M:%S+00\")",
   "id": "d57c728e55a8c487",
   "outputs": [
    {
     "data": {
      "text/plain": [
       "'2024-08-15 10:01:52+00'"
      ]
     },
     "execution_count": 9,
     "metadata": {},
     "output_type": "execute_result"
    }
   ],
   "execution_count": 9
  },
  {
   "metadata": {},
   "cell_type": "code",
   "outputs": [],
   "execution_count": null,
   "source": "",
   "id": "bfb17c9c0ffb058c"
  }
 ],
 "metadata": {
  "kernelspec": {
   "display_name": "Python 3",
   "language": "python",
   "name": "python3"
  },
  "language_info": {
   "codemirror_mode": {
    "name": "ipython",
    "version": 2
   },
   "file_extension": ".py",
   "mimetype": "text/x-python",
   "name": "python",
   "nbconvert_exporter": "python",
   "pygments_lexer": "ipython2",
   "version": "2.7.6"
  }
 },
 "nbformat": 4,
 "nbformat_minor": 5
}
